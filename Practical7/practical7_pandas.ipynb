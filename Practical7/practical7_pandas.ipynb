{
 "cells": [
  {
   "cell_type": "code",
   "execution_count": 1,
   "metadata": {},
   "outputs": [
    {
     "name": "stdout",
     "output_type": "stream",
     "text": [
      "       country  gdpPercap_1952  gdpPercap_1957  gdpPercap_1962  \\\n",
      "0    Australia     10039.59564     10949.64959     12217.22686   \n",
      "1  New Zealand     10556.57566     12247.39532     13175.67800   \n",
      "\n",
      "   gdpPercap_1967  gdpPercap_1972  gdpPercap_1977  gdpPercap_1982  \\\n",
      "0     14526.12465     16788.62948     18334.19751     19477.00928   \n",
      "1     14463.91893     16046.03728     16233.71770     17632.41040   \n",
      "\n",
      "   gdpPercap_1987  gdpPercap_1992  gdpPercap_1997  gdpPercap_2002  \\\n",
      "0     21888.88903     23424.76683     26997.93657     30687.75473   \n",
      "1     19007.19129     18363.32494     21050.41377     23189.80135   \n",
      "\n",
      "   gdpPercap_2007  \n",
      "0     34435.36744  \n",
      "1     25185.00911  \n"
     ]
    }
   ],
   "source": [
    "# GEOG5790 - Practical 7\n",
    "# Anne Harding, 14/03/2019\n",
    "# Instructions: http://swcarpentry.github.io/python-novice-gapminder/\n",
    "# --------------------------------------------------------------------\n",
    "# Section 7 - Reading Tabular Data into DataFrames\n",
    "\n",
    "import pandas\n",
    "\n",
    "# Read Oceania data:\n",
    "data = pandas.read_csv('data/gapminder_gdp_oceania.csv')\n",
    "print(data)\n"
   ]
  },
  {
   "cell_type": "code",
   "execution_count": 2,
   "metadata": {},
   "outputs": [
    {
     "name": "stdout",
     "output_type": "stream",
     "text": [
      "             gdpPercap_1952  gdpPercap_1957  gdpPercap_1962  gdpPercap_1967  \\\n",
      "country                                                                       \n",
      "Australia       10039.59564     10949.64959     12217.22686     14526.12465   \n",
      "New Zealand     10556.57566     12247.39532     13175.67800     14463.91893   \n",
      "\n",
      "             gdpPercap_1972  gdpPercap_1977  gdpPercap_1982  gdpPercap_1987  \\\n",
      "country                                                                       \n",
      "Australia       16788.62948     18334.19751     19477.00928     21888.88903   \n",
      "New Zealand     16046.03728     16233.71770     17632.41040     19007.19129   \n",
      "\n",
      "             gdpPercap_1992  gdpPercap_1997  gdpPercap_2002  gdpPercap_2007  \n",
      "country                                                                      \n",
      "Australia       23424.76683     26997.93657     30687.75473     34435.36744  \n",
      "New Zealand     18363.32494     21050.41377     23189.80135     25185.00911  \n"
     ]
    }
   ],
   "source": [
    "# Read Oceania data using 'country' as index column:\n",
    "data = pandas.read_csv('data/gapminder_gdp_oceania.csv', index_col='country')\n",
    "print(data)"
   ]
  },
  {
   "cell_type": "code",
   "execution_count": 3,
   "metadata": {},
   "outputs": [
    {
     "name": "stdout",
     "output_type": "stream",
     "text": [
      "<class 'pandas.core.frame.DataFrame'>\n",
      "Index: 2 entries, Australia to New Zealand\n",
      "Data columns (total 12 columns):\n",
      "gdpPercap_1952    2 non-null float64\n",
      "gdpPercap_1957    2 non-null float64\n",
      "gdpPercap_1962    2 non-null float64\n",
      "gdpPercap_1967    2 non-null float64\n",
      "gdpPercap_1972    2 non-null float64\n",
      "gdpPercap_1977    2 non-null float64\n",
      "gdpPercap_1982    2 non-null float64\n",
      "gdpPercap_1987    2 non-null float64\n",
      "gdpPercap_1992    2 non-null float64\n",
      "gdpPercap_1997    2 non-null float64\n",
      "gdpPercap_2002    2 non-null float64\n",
      "gdpPercap_2007    2 non-null float64\n",
      "dtypes: float64(12)\n",
      "memory usage: 208.0+ bytes\n"
     ]
    }
   ],
   "source": [
    "# Information about Oceania DataFrame:\n",
    "data.info()"
   ]
  },
  {
   "cell_type": "code",
   "execution_count": 4,
   "metadata": {},
   "outputs": [
    {
     "name": "stdout",
     "output_type": "stream",
     "text": [
      "Index(['gdpPercap_1952', 'gdpPercap_1957', 'gdpPercap_1962', 'gdpPercap_1967',\n",
      "       'gdpPercap_1972', 'gdpPercap_1977', 'gdpPercap_1982', 'gdpPercap_1987',\n",
      "       'gdpPercap_1992', 'gdpPercap_1997', 'gdpPercap_2002', 'gdpPercap_2007'],\n",
      "      dtype='object')\n"
     ]
    }
   ],
   "source": [
    "# Column headers:\n",
    "print(data.columns)"
   ]
  },
  {
   "cell_type": "code",
   "execution_count": 5,
   "metadata": {},
   "outputs": [
    {
     "name": "stdout",
     "output_type": "stream",
     "text": [
      "country           Australia  New Zealand\n",
      "gdpPercap_1952  10039.59564  10556.57566\n",
      "gdpPercap_1957  10949.64959  12247.39532\n",
      "gdpPercap_1962  12217.22686  13175.67800\n",
      "gdpPercap_1967  14526.12465  14463.91893\n",
      "gdpPercap_1972  16788.62948  16046.03728\n",
      "gdpPercap_1977  18334.19751  16233.71770\n",
      "gdpPercap_1982  19477.00928  17632.41040\n",
      "gdpPercap_1987  21888.88903  19007.19129\n",
      "gdpPercap_1992  23424.76683  18363.32494\n",
      "gdpPercap_1997  26997.93657  21050.41377\n",
      "gdpPercap_2002  30687.75473  23189.80135\n",
      "gdpPercap_2007  34435.36744  25185.00911\n"
     ]
    }
   ],
   "source": [
    "# Transpose data:\n",
    "print(data.T)"
   ]
  },
  {
   "cell_type": "code",
   "execution_count": 7,
   "metadata": {},
   "outputs": [
    {
     "name": "stdout",
     "output_type": "stream",
     "text": [
      "       gdpPercap_1952  gdpPercap_1957  gdpPercap_1962  gdpPercap_1967  \\\n",
      "count        2.000000        2.000000        2.000000        2.000000   \n",
      "mean     10298.085650    11598.522455    12696.452430    14495.021790   \n",
      "std        365.560078      917.644806      677.727301       43.986086   \n",
      "min      10039.595640    10949.649590    12217.226860    14463.918930   \n",
      "25%      10168.840645    11274.086022    12456.839645    14479.470360   \n",
      "50%      10298.085650    11598.522455    12696.452430    14495.021790   \n",
      "75%      10427.330655    11922.958888    12936.065215    14510.573220   \n",
      "max      10556.575660    12247.395320    13175.678000    14526.124650   \n",
      "\n",
      "       gdpPercap_1972  gdpPercap_1977  gdpPercap_1982  gdpPercap_1987  \\\n",
      "count         2.00000        2.000000        2.000000        2.000000   \n",
      "mean      16417.33338    17283.957605    18554.709840    20448.040160   \n",
      "std         525.09198     1485.263517     1304.328377     2037.668013   \n",
      "min       16046.03728    16233.717700    17632.410400    19007.191290   \n",
      "25%       16231.68533    16758.837652    18093.560120    19727.615725   \n",
      "50%       16417.33338    17283.957605    18554.709840    20448.040160   \n",
      "75%       16602.98143    17809.077557    19015.859560    21168.464595   \n",
      "max       16788.62948    18334.197510    19477.009280    21888.889030   \n",
      "\n",
      "       gdpPercap_1992  gdpPercap_1997  gdpPercap_2002  gdpPercap_2007  \n",
      "count        2.000000        2.000000        2.000000        2.000000  \n",
      "mean     20894.045885    24024.175170    26938.778040    29810.188275  \n",
      "std       3578.979883     4205.533703     5301.853680     6540.991104  \n",
      "min      18363.324940    21050.413770    23189.801350    25185.009110  \n",
      "25%      19628.685413    22537.294470    25064.289695    27497.598692  \n",
      "50%      20894.045885    24024.175170    26938.778040    29810.188275  \n",
      "75%      22159.406358    25511.055870    28813.266385    32122.777857  \n",
      "max      23424.766830    26997.936570    30687.754730    34435.367440  \n"
     ]
    }
   ],
   "source": [
    "# Descriptive statistics of Oceania dataset:\n",
    "print(data.describe())"
   ]
  },
  {
   "cell_type": "code",
   "execution_count": 12,
   "metadata": {},
   "outputs": [
    {
     "name": "stdout",
     "output_type": "stream",
     "text": [
      "   continent              country  gdpPercap_1952  gdpPercap_1957  \\\n",
      "0   Americas            Argentina     5911.315053     6856.856212   \n",
      "1   Americas              Bolivia     2677.326347     2127.686326   \n",
      "2   Americas               Brazil     2108.944355     2487.365989   \n",
      "3   Americas               Canada    11367.161120    12489.950060   \n",
      "4   Americas                Chile     3939.978789     4315.622723   \n",
      "5   Americas             Colombia     2144.115096     2323.805581   \n",
      "6   Americas           Costa Rica     2627.009471     2990.010802   \n",
      "7   Americas                 Cuba     5586.538780     6092.174359   \n",
      "8   Americas   Dominican Republic     1397.717137     1544.402995   \n",
      "9   Americas              Ecuador     3522.110717     3780.546651   \n",
      "10  Americas          El Salvador     3048.302900     3421.523218   \n",
      "11  Americas            Guatemala     2428.237769     2617.155967   \n",
      "12  Americas                Haiti     1840.366939     1726.887882   \n",
      "13  Americas             Honduras     2194.926204     2220.487682   \n",
      "14  Americas              Jamaica     2898.530881     4756.525781   \n",
      "15  Americas               Mexico     3478.125529     4131.546641   \n",
      "16  Americas            Nicaragua     3112.363948     3457.415947   \n",
      "17  Americas               Panama     2480.380334     2961.800905   \n",
      "18  Americas             Paraguay     1952.308701     2046.154706   \n",
      "19  Americas                 Peru     3758.523437     4245.256698   \n",
      "20  Americas          Puerto Rico     3081.959785     3907.156189   \n",
      "21  Americas  Trinidad and Tobago     3023.271928     4100.393400   \n",
      "22  Americas        United States    13990.482080    14847.127120   \n",
      "23  Americas              Uruguay     5716.766744     6150.772969   \n",
      "24  Americas            Venezuela     7689.799761     9802.466526   \n",
      "\n",
      "    gdpPercap_1962  gdpPercap_1967  gdpPercap_1972  gdpPercap_1977  \\\n",
      "0      7133.166023     8052.953021     9443.038526    10079.026740   \n",
      "1      2180.972546     2586.886053     2980.331339     3548.097832   \n",
      "2      3336.585802     3429.864357     4985.711467     6660.118654   \n",
      "3     13462.485550    16076.588030    18970.570860    22090.883060   \n",
      "4      4519.094331     5106.654313     5494.024437     4756.763836   \n",
      "5      2492.351109     2678.729839     3264.660041     3815.807870   \n",
      "6      3460.937025     4161.727834     5118.146939     5926.876967   \n",
      "7      5180.755910     5690.268015     5305.445256     6380.494966   \n",
      "8      1662.137359     1653.723003     2189.874499     2681.988900   \n",
      "9      4086.114078     4579.074215     5280.994710     6679.623260   \n",
      "10     3776.803627     4358.595393     4520.246008     5138.922374   \n",
      "11     2750.364446     3242.531147     4031.408271     4879.992748   \n",
      "12     1796.589032     1452.057666     1654.456946     1874.298931   \n",
      "13     2291.156835     2538.269358     2529.842345     3203.208066   \n",
      "14     5246.107524     6124.703451     7433.889293     6650.195573   \n",
      "15     4581.609385     5754.733883     6809.406690     7674.929108   \n",
      "16     3634.364406     4643.393534     4688.593267     5486.371089   \n",
      "17     3536.540301     4421.009084     5364.249663     5351.912144   \n",
      "18     2148.027146     2299.376311     2523.337977     3248.373311   \n",
      "19     4957.037982     5788.093330     5937.827283     6281.290855   \n",
      "20     5108.344630     6929.277714     9123.041742     9770.524921   \n",
      "21     4997.523971     5621.368472     6619.551419     7899.554209   \n",
      "22    16173.145860    19530.365570    21806.035940    24072.632130   \n",
      "23     5603.357717     5444.619620     5703.408898     6504.339663   \n",
      "24     8422.974165     9541.474188    10505.259660    13143.950950   \n",
      "\n",
      "    gdpPercap_1982  gdpPercap_1987  gdpPercap_1992  gdpPercap_1997  \\\n",
      "0      8997.897412     9139.671389     9308.418710    10967.281950   \n",
      "1      3156.510452     2753.691490     2961.699694     3326.143191   \n",
      "2      7030.835878     7807.095818     6950.283021     7957.980824   \n",
      "3     22898.792140    26626.515030    26342.884260    28954.925890   \n",
      "4      5095.665738     5547.063754     7596.125964    10118.053180   \n",
      "5      4397.575659     4903.219100     5444.648617     6117.361746   \n",
      "6      5262.734751     5629.915318     6160.416317     6677.045314   \n",
      "7      7316.918107     7532.924763     5592.843963     5431.990415   \n",
      "8      2861.092386     2899.842175     3044.214214     3614.101285   \n",
      "9      7213.791267     6481.776993     7103.702595     7429.455877   \n",
      "10     4098.344175     4140.442097     4444.231700     5154.825496   \n",
      "11     4820.494790     4246.485974     4439.450840     4684.313807   \n",
      "12     2011.159549     1823.015995     1456.309517     1341.726931   \n",
      "13     3121.760794     3023.096699     3081.694603     3160.454906   \n",
      "14     6068.051350     6351.237495     7404.923685     7121.924704   \n",
      "15     9611.147541     8688.156003     9472.384295     9767.297530   \n",
      "16     3470.338156     2955.984375     2170.151724     2253.023004   \n",
      "17     7009.601598     7034.779161     6618.743050     7113.692252   \n",
      "18     4258.503604     3998.875695     4196.411078     4247.400261   \n",
      "19     6434.501797     6360.943444     4446.380924     5838.347657   \n",
      "20    10330.989150    12281.341910    14641.587110    16999.433300   \n",
      "21     9119.528607     7388.597823     7370.990932     8792.573126   \n",
      "22    25009.559140    29884.350410    32003.932240    35767.433030   \n",
      "23     6920.223051     7452.398969     8137.004775     9230.240708   \n",
      "24    11152.410110     9883.584648    10733.926310    10165.495180   \n",
      "\n",
      "    gdpPercap_2002  gdpPercap_2007  \n",
      "0      8797.640716    12779.379640  \n",
      "1      3413.262690     3822.137084  \n",
      "2      8131.212843     9065.800825  \n",
      "3     33328.965070    36319.235010  \n",
      "4     10778.783850    13171.638850  \n",
      "5      5755.259962     7006.580419  \n",
      "6      7723.447195     9645.061420  \n",
      "7      6340.646683     8948.102923  \n",
      "8      4563.808154     6025.374752  \n",
      "9      5773.044512     6873.262326  \n",
      "10     5351.568666     5728.353514  \n",
      "11     4858.347495     5186.050003  \n",
      "12     1270.364932     1201.637154  \n",
      "13     3099.728660     3548.330846  \n",
      "14     6994.774861     7320.880262  \n",
      "15    10742.440530    11977.574960  \n",
      "16     2474.548819     2749.320965  \n",
      "17     7356.031934     9809.185636  \n",
      "18     3783.674243     4172.838464  \n",
      "19     5909.020073     7408.905561  \n",
      "20    18855.606180    19328.709010  \n",
      "21    11460.600230    18008.509240  \n",
      "22    39097.099550    42951.653090  \n",
      "23     7727.002004    10611.462990  \n",
      "24     8605.047831    11415.805690  \n",
      "       gdpPercap_1952  gdpPercap_1957  gdpPercap_1962  gdpPercap_1967  \\\n",
      "count       25.000000       25.000000       25.000000       25.000000   \n",
      "mean      4079.062552     4616.043733     4901.541870     5668.253496   \n",
      "std       3001.727522     3312.381083     3421.740569     4160.885560   \n",
      "min       1397.717137     1544.402995     1662.137359     1452.057666   \n",
      "25%       2428.237769     2487.365989     2750.364446     3242.531147   \n",
      "50%       3048.302900     3780.546651     4086.114078     4643.393534   \n",
      "75%       3939.978789     4756.525781     5180.755910     5788.093330   \n",
      "max      13990.482080    14847.127120    16173.145860    19530.365570   \n",
      "\n",
      "       gdpPercap_1972  gdpPercap_1977  gdpPercap_1982  gdpPercap_1987  \\\n",
      "count       25.000000       25.000000       25.000000       25.000000   \n",
      "mean      6491.334139     7352.007126     7506.737088     7793.400261   \n",
      "std       4754.404329     5355.602518     5530.490471     6665.039509   \n",
      "min       1654.456946     1874.298931     2011.159549     1823.015995   \n",
      "25%       4031.408271     4756.763836     4258.503604     4140.442097   \n",
      "50%       5305.445256     6281.290855     6434.501797     6360.943444   \n",
      "75%       6809.406690     7674.929108     8997.897412     7807.095818   \n",
      "max      21806.035940    24072.632130    25009.559140    29884.350410   \n",
      "\n",
      "       gdpPercap_1992  gdpPercap_1997  gdpPercap_2002  gdpPercap_2007  \n",
      "count       25.000000       25.000000       25.000000       25.000000  \n",
      "mean      8044.934406     8889.300863     9287.677107    11003.031625  \n",
      "std       7047.089191     7874.225145     8895.817785     9713.209302  \n",
      "min       1456.309517     1341.726931     1270.364932     1201.637154  \n",
      "25%       4439.450840     4684.313807     4858.347495     5728.353514  \n",
      "50%       6618.743050     7113.692252     6994.774861     8948.102923  \n",
      "75%       8137.004775     9767.297530     8797.640716    11977.574960  \n",
      "max      32003.932240    35767.433030    39097.099550    42951.653090  \n"
     ]
    }
   ],
   "source": [
    "# Read Americas data:\n",
    "americas = pandas.read_csv('data\\gapminder_gdp_americas.csv')\n",
    "print(americas)\n",
    "# Print summary statistics for Americas data:\n",
    "print(americas.describe())"
   ]
  },
  {
   "cell_type": "code",
   "execution_count": 10,
   "metadata": {},
   "outputs": [
    {
     "name": "stdout",
     "output_type": "stream",
     "text": [
      "Help on method head in module pandas.core.generic:\n",
      "\n",
      "head(n=5) method of pandas.core.frame.DataFrame instance\n",
      "    Return the first `n` rows.\n",
      "    \n",
      "    This function returns the first `n` rows for the object based\n",
      "    on position. It is useful for quickly testing if your object\n",
      "    has the right type of data in it.\n",
      "    \n",
      "    Parameters\n",
      "    ----------\n",
      "    n : int, default 5\n",
      "        Number of rows to select.\n",
      "    \n",
      "    Returns\n",
      "    -------\n",
      "    obj_head : type of caller\n",
      "        The first `n` rows of the caller object.\n",
      "    \n",
      "    See Also\n",
      "    --------\n",
      "    pandas.DataFrame.tail: Returns the last `n` rows.\n",
      "    \n",
      "    Examples\n",
      "    --------\n",
      "    >>> df = pd.DataFrame({'animal':['alligator', 'bee', 'falcon', 'lion',\n",
      "    ...                    'monkey', 'parrot', 'shark', 'whale', 'zebra']})\n",
      "    >>> df\n",
      "          animal\n",
      "    0  alligator\n",
      "    1        bee\n",
      "    2     falcon\n",
      "    3       lion\n",
      "    4     monkey\n",
      "    5     parrot\n",
      "    6      shark\n",
      "    7      whale\n",
      "    8      zebra\n",
      "    \n",
      "    Viewing the first 5 lines\n",
      "    \n",
      "    >>> df.head()\n",
      "          animal\n",
      "    0  alligator\n",
      "    1        bee\n",
      "    2     falcon\n",
      "    3       lion\n",
      "    4     monkey\n",
      "    \n",
      "    Viewing the first `n` lines (three in this case)\n",
      "    \n",
      "    >>> df.head(3)\n",
      "          animal\n",
      "    0  alligator\n",
      "    1        bee\n",
      "    2     falcon\n",
      "\n",
      "Help on method tail in module pandas.core.generic:\n",
      "\n",
      "tail(n=5) method of pandas.core.frame.DataFrame instance\n",
      "    Return the last `n` rows.\n",
      "    \n",
      "    This function returns last `n` rows from the object based on\n",
      "    position. It is useful for quickly verifying data, for example,\n",
      "    after sorting or appending rows.\n",
      "    \n",
      "    Parameters\n",
      "    ----------\n",
      "    n : int, default 5\n",
      "        Number of rows to select.\n",
      "    \n",
      "    Returns\n",
      "    -------\n",
      "    type of caller\n",
      "        The last `n` rows of the caller object.\n",
      "    \n",
      "    See Also\n",
      "    --------\n",
      "    pandas.DataFrame.head : The first `n` rows of the caller object.\n",
      "    \n",
      "    Examples\n",
      "    --------\n",
      "    >>> df = pd.DataFrame({'animal':['alligator', 'bee', 'falcon', 'lion',\n",
      "    ...                    'monkey', 'parrot', 'shark', 'whale', 'zebra']})\n",
      "    >>> df\n",
      "          animal\n",
      "    0  alligator\n",
      "    1        bee\n",
      "    2     falcon\n",
      "    3       lion\n",
      "    4     monkey\n",
      "    5     parrot\n",
      "    6      shark\n",
      "    7      whale\n",
      "    8      zebra\n",
      "    \n",
      "    Viewing the last 5 lines\n",
      "    \n",
      "    >>> df.tail()\n",
      "       animal\n",
      "    4  monkey\n",
      "    5  parrot\n",
      "    6   shark\n",
      "    7   whale\n",
      "    8   zebra\n",
      "    \n",
      "    Viewing the last `n` lines (three in this case)\n",
      "    \n",
      "    >>> df.tail(3)\n",
      "      animal\n",
      "    6  shark\n",
      "    7  whale\n",
      "    8  zebra\n",
      "\n"
     ]
    }
   ],
   "source": [
    "# What do DataFrame.head and DataFrame.tail do?\n",
    "help(americas.head)\n",
    "help(americas.tail)"
   ]
  },
  {
   "cell_type": "code",
   "execution_count": 11,
   "metadata": {},
   "outputs": [
    {
     "name": "stdout",
     "output_type": "stream",
     "text": [
      "  continent    country  gdpPercap_1952  gdpPercap_1957  gdpPercap_1962  \\\n",
      "0  Americas  Argentina     5911.315053     6856.856212     7133.166023   \n",
      "1  Americas    Bolivia     2677.326347     2127.686326     2180.972546   \n",
      "2  Americas     Brazil     2108.944355     2487.365989     3336.585802   \n",
      "\n",
      "   gdpPercap_1967  gdpPercap_1972  gdpPercap_1977  gdpPercap_1982  \\\n",
      "0     8052.953021     9443.038526    10079.026740     8997.897412   \n",
      "1     2586.886053     2980.331339     3548.097832     3156.510452   \n",
      "2     3429.864357     4985.711467     6660.118654     7030.835878   \n",
      "\n",
      "   gdpPercap_1987  gdpPercap_1992  gdpPercap_1997  gdpPercap_2002  \\\n",
      "0     9139.671389     9308.418710    10967.281950     8797.640716   \n",
      "1     2753.691490     2961.699694     3326.143191     3413.262690   \n",
      "2     7807.095818     6950.283021     7957.980824     8131.212843   \n",
      "\n",
      "   gdpPercap_2007  \n",
      "0    12779.379640  \n",
      "1     3822.137084  \n",
      "2     9065.800825  \n",
      "                     0        1        2        3        4        5        6   \\\n",
      "gdpPercap_1997  10967.3  3326.14  7957.98  28954.9  10118.1  6117.36  6677.05   \n",
      "gdpPercap_2002  8797.64  3413.26  8131.21    33329  10778.8  5755.26  7723.45   \n",
      "gdpPercap_2007  12779.4  3822.14   9065.8  36319.2  13171.6  7006.58  9645.06   \n",
      "\n",
      "                     7        8        9    ...          15       16       17  \\\n",
      "gdpPercap_1997  5431.99   3614.1  7429.46   ...      9767.3  2253.02  7113.69   \n",
      "gdpPercap_2002  6340.65  4563.81  5773.04   ...     10742.4  2474.55  7356.03   \n",
      "gdpPercap_2007   8948.1  6025.37  6873.26   ...     11977.6  2749.32  9809.19   \n",
      "\n",
      "                     18       19       20       21       22       23       24  \n",
      "gdpPercap_1997   4247.4  5838.35  16999.4  8792.57  35767.4  9230.24  10165.5  \n",
      "gdpPercap_2002  3783.67  5909.02  18855.6  11460.6  39097.1     7727  8605.05  \n",
      "gdpPercap_2007  4172.84  7408.91  19328.7  18008.5  42951.7  10611.5  11415.8  \n",
      "\n",
      "[3 rows x 25 columns]\n"
     ]
    }
   ],
   "source": [
    "# Display first 3 rows of Americas data:\n",
    "print(americas.head(3))\n",
    "# Display last 3 columns of Americas data:\n",
    "americas_t = americas.T  # Transpose Americas data\n",
    "print(americas_t.tail(3))"
   ]
  },
  {
   "cell_type": "code",
   "execution_count": null,
   "metadata": {},
   "outputs": [],
   "source": [
    "# Reading microbes data file from sister directory:\n",
    "# Note that this is theoretical and will not run!\n",
    "# data_microbes = pandas.read_csv('../field_data/microbes.csv')"
   ]
  },
  {
   "cell_type": "code",
   "execution_count": 13,
   "metadata": {},
   "outputs": [
    {
     "name": "stdout",
     "output_type": "stream",
     "text": [
      "Help on method to_csv in module pandas.core.frame:\n",
      "\n",
      "to_csv(path_or_buf=None, sep=',', na_rep='', float_format=None, columns=None, header=True, index=True, index_label=None, mode='w', encoding=None, compression=None, quoting=None, quotechar='\"', line_terminator='\\n', chunksize=None, tupleize_cols=None, date_format=None, doublequote=True, escapechar=None, decimal='.') method of pandas.core.frame.DataFrame instance\n",
      "    Write DataFrame to a comma-separated values (csv) file\n",
      "    \n",
      "    Parameters\n",
      "    ----------\n",
      "    path_or_buf : string or file handle, default None\n",
      "        File path or object, if None is provided the result is returned as\n",
      "        a string.\n",
      "    sep : character, default ','\n",
      "        Field delimiter for the output file.\n",
      "    na_rep : string, default ''\n",
      "        Missing data representation\n",
      "    float_format : string, default None\n",
      "        Format string for floating point numbers\n",
      "    columns : sequence, optional\n",
      "        Columns to write\n",
      "    header : boolean or list of string, default True\n",
      "        Write out the column names. If a list of strings is given it is\n",
      "        assumed to be aliases for the column names\n",
      "    index : boolean, default True\n",
      "        Write row names (index)\n",
      "    index_label : string or sequence, or False, default None\n",
      "        Column label for index column(s) if desired. If None is given, and\n",
      "        `header` and `index` are True, then the index names are used. A\n",
      "        sequence should be given if the DataFrame uses MultiIndex.  If\n",
      "        False do not print fields for index names. Use index_label=False\n",
      "        for easier importing in R\n",
      "    mode : str\n",
      "        Python write mode, default 'w'\n",
      "    encoding : string, optional\n",
      "        A string representing the encoding to use in the output file,\n",
      "        defaults to 'ascii' on Python 2 and 'utf-8' on Python 3.\n",
      "    compression : string, optional\n",
      "        A string representing the compression to use in the output file.\n",
      "        Allowed values are 'gzip', 'bz2', 'zip', 'xz'. This input is only\n",
      "        used when the first argument is a filename.\n",
      "    line_terminator : string, default ``'\\n'``\n",
      "        The newline character or character sequence to use in the output\n",
      "        file\n",
      "    quoting : optional constant from csv module\n",
      "        defaults to csv.QUOTE_MINIMAL. If you have set a `float_format`\n",
      "        then floats are converted to strings and thus csv.QUOTE_NONNUMERIC\n",
      "        will treat them as non-numeric\n",
      "    quotechar : string (length 1), default '\\\"'\n",
      "        character used to quote fields\n",
      "    doublequote : boolean, default True\n",
      "        Control quoting of `quotechar` inside a field\n",
      "    escapechar : string (length 1), default None\n",
      "        character used to escape `sep` and `quotechar` when appropriate\n",
      "    chunksize : int or None\n",
      "        rows to write at a time\n",
      "    tupleize_cols : boolean, default False\n",
      "        .. deprecated:: 0.21.0\n",
      "           This argument will be removed and will always write each row\n",
      "           of the multi-index as a separate row in the CSV file.\n",
      "    \n",
      "        Write MultiIndex columns as a list of tuples (if True) or in\n",
      "        the new, expanded format, where each MultiIndex column is a row\n",
      "        in the CSV (if False).\n",
      "    date_format : string, default None\n",
      "        Format string for datetime objects\n",
      "    decimal: string, default '.'\n",
      "        Character recognized as decimal separator. E.g. use ',' for\n",
      "        European data\n",
      "\n"
     ]
    }
   ],
   "source": [
    "# Help about exporting DataFrame to .csv file:\n",
    "help(americas.to_csv)"
   ]
  },
  {
   "cell_type": "code",
   "execution_count": 14,
   "metadata": {},
   "outputs": [],
   "source": [
    "# Export americas DF to americas.csv:\n",
    "americas.to_csv('processed_data/americas.csv')"
   ]
  },
  {
   "cell_type": "code",
   "execution_count": 15,
   "metadata": {},
   "outputs": [
    {
     "name": "stdout",
     "output_type": "stream",
     "text": [
      "1601.056136\n"
     ]
    }
   ],
   "source": [
    "# --------------------------------------------------------------------\n",
    "# Section 8 - Pandas DataFrames\n",
    "\n",
    "import pandas as pd\n",
    "\n",
    "# Use DataFrame.iloc[..., ...] to select values by their (entry) position\n",
    "data = pd.read_csv('data/gapminder_gdp_europe.csv', index_col='country')\n",
    "print(data.iloc[0, 0])"
   ]
  },
  {
   "cell_type": "code",
   "execution_count": 16,
   "metadata": {},
   "outputs": [
    {
     "name": "stdout",
     "output_type": "stream",
     "text": [
      "1601.056136\n"
     ]
    }
   ],
   "source": [
    "# Use DataFrame.loc[..., ...] to select values by their (entry) label.\n",
    "data = pandas.read_csv('data/gapminder_gdp_europe.csv', index_col='country')\n",
    "print(data.loc[\"Albania\", \"gdpPercap_1952\"])"
   ]
  },
  {
   "cell_type": "code",
   "execution_count": 17,
   "metadata": {},
   "outputs": [
    {
     "name": "stdout",
     "output_type": "stream",
     "text": [
      "gdpPercap_1952    1601.056136\n",
      "gdpPercap_1957    1942.284244\n",
      "gdpPercap_1962    2312.888958\n",
      "gdpPercap_1967    2760.196931\n",
      "gdpPercap_1972    3313.422188\n",
      "gdpPercap_1977    3533.003910\n",
      "gdpPercap_1982    3630.880722\n",
      "gdpPercap_1987    3738.932735\n",
      "gdpPercap_1992    2497.437901\n",
      "gdpPercap_1997    3193.054604\n",
      "gdpPercap_2002    4604.211737\n",
      "gdpPercap_2007    5937.029526\n",
      "Name: Albania, dtype: float64\n"
     ]
    }
   ],
   "source": [
    "# Use : on its own to mean all columns or all rows.\n",
    "# All cols:\n",
    "print(data.loc[\"Albania\", :])"
   ]
  },
  {
   "cell_type": "code",
   "execution_count": 18,
   "metadata": {},
   "outputs": [
    {
     "name": "stdout",
     "output_type": "stream",
     "text": [
      "gdpPercap_1952    1601.056136\n",
      "gdpPercap_1957    1942.284244\n",
      "gdpPercap_1962    2312.888958\n",
      "gdpPercap_1967    2760.196931\n",
      "gdpPercap_1972    3313.422188\n",
      "gdpPercap_1977    3533.003910\n",
      "gdpPercap_1982    3630.880722\n",
      "gdpPercap_1987    3738.932735\n",
      "gdpPercap_1992    2497.437901\n",
      "gdpPercap_1997    3193.054604\n",
      "gdpPercap_2002    4604.211737\n",
      "gdpPercap_2007    5937.029526\n",
      "Name: Albania, dtype: float64\n"
     ]
    }
   ],
   "source": [
    "# Same result as above:\n",
    "print(data.loc[\"Albania\"])"
   ]
  },
  {
   "cell_type": "code",
   "execution_count": 19,
   "metadata": {},
   "outputs": [
    {
     "name": "stdout",
     "output_type": "stream",
     "text": [
      "country\n",
      "Albania                    1601.056136\n",
      "Austria                    6137.076492\n",
      "Belgium                    8343.105127\n",
      "Bosnia and Herzegovina      973.533195\n",
      "Bulgaria                   2444.286648\n",
      "Croatia                    3119.236520\n",
      "Czech Republic             6876.140250\n",
      "Denmark                    9692.385245\n",
      "Finland                    6424.519071\n",
      "France                     7029.809327\n",
      "Germany                    7144.114393\n",
      "Greece                     3530.690067\n",
      "Hungary                    5263.673816\n",
      "Iceland                    7267.688428\n",
      "Ireland                    5210.280328\n",
      "Italy                      4931.404155\n",
      "Montenegro                 2647.585601\n",
      "Netherlands                8941.571858\n",
      "Norway                    10095.421720\n",
      "Poland                     4029.329699\n",
      "Portugal                   3068.319867\n",
      "Romania                    3144.613186\n",
      "Serbia                     3581.459448\n",
      "Slovak Republic            5074.659104\n",
      "Slovenia                   4215.041741\n",
      "Spain                      3834.034742\n",
      "Sweden                     8527.844662\n",
      "Switzerland               14734.232750\n",
      "Turkey                     1969.100980\n",
      "United Kingdom             9979.508487\n",
      "Name: gdpPercap_1952, dtype: float64\n"
     ]
    }
   ],
   "source": [
    "# All rows:\n",
    "print(data.loc[:, \"gdpPercap_1952\"])"
   ]
  },
  {
   "cell_type": "code",
   "execution_count": 20,
   "metadata": {},
   "outputs": [
    {
     "name": "stdout",
     "output_type": "stream",
     "text": [
      "country\n",
      "Albania                    1601.056136\n",
      "Austria                    6137.076492\n",
      "Belgium                    8343.105127\n",
      "Bosnia and Herzegovina      973.533195\n",
      "Bulgaria                   2444.286648\n",
      "Croatia                    3119.236520\n",
      "Czech Republic             6876.140250\n",
      "Denmark                    9692.385245\n",
      "Finland                    6424.519071\n",
      "France                     7029.809327\n",
      "Germany                    7144.114393\n",
      "Greece                     3530.690067\n",
      "Hungary                    5263.673816\n",
      "Iceland                    7267.688428\n",
      "Ireland                    5210.280328\n",
      "Italy                      4931.404155\n",
      "Montenegro                 2647.585601\n",
      "Netherlands                8941.571858\n",
      "Norway                    10095.421720\n",
      "Poland                     4029.329699\n",
      "Portugal                   3068.319867\n",
      "Romania                    3144.613186\n",
      "Serbia                     3581.459448\n",
      "Slovak Republic            5074.659104\n",
      "Slovenia                   4215.041741\n",
      "Spain                      3834.034742\n",
      "Sweden                     8527.844662\n",
      "Switzerland               14734.232750\n",
      "Turkey                     1969.100980\n",
      "United Kingdom             9979.508487\n",
      "Name: gdpPercap_1952, dtype: float64\n",
      "country\n",
      "Albania                    1601.056136\n",
      "Austria                    6137.076492\n",
      "Belgium                    8343.105127\n",
      "Bosnia and Herzegovina      973.533195\n",
      "Bulgaria                   2444.286648\n",
      "Croatia                    3119.236520\n",
      "Czech Republic             6876.140250\n",
      "Denmark                    9692.385245\n",
      "Finland                    6424.519071\n",
      "France                     7029.809327\n",
      "Germany                    7144.114393\n",
      "Greece                     3530.690067\n",
      "Hungary                    5263.673816\n",
      "Iceland                    7267.688428\n",
      "Ireland                    5210.280328\n",
      "Italy                      4931.404155\n",
      "Montenegro                 2647.585601\n",
      "Netherlands                8941.571858\n",
      "Norway                    10095.421720\n",
      "Poland                     4029.329699\n",
      "Portugal                   3068.319867\n",
      "Romania                    3144.613186\n",
      "Serbia                     3581.459448\n",
      "Slovak Republic            5074.659104\n",
      "Slovenia                   4215.041741\n",
      "Spain                      3834.034742\n",
      "Sweden                     8527.844662\n",
      "Switzerland               14734.232750\n",
      "Turkey                     1969.100980\n",
      "United Kingdom             9979.508487\n",
      "Name: gdpPercap_1952, dtype: float64\n"
     ]
    }
   ],
   "source": [
    "# Same result as above:\n",
    "print(data[\"gdpPercap_1952\"])\n",
    "print(data.gdpPercap_1952)"
   ]
  },
  {
   "cell_type": "code",
   "execution_count": 21,
   "metadata": {},
   "outputs": [
    {
     "name": "stdout",
     "output_type": "stream",
     "text": [
      "             gdpPercap_1962  gdpPercap_1967  gdpPercap_1972\n",
      "country                                                    \n",
      "Italy           8243.582340    10022.401310    12269.273780\n",
      "Montenegro      4649.593785     5907.850937     7778.414017\n",
      "Netherlands    12790.849560    15363.251360    18794.745670\n",
      "Norway         13450.401510    16361.876470    18965.055510\n",
      "Poland          5338.752143     6557.152776     8006.506993\n"
     ]
    }
   ],
   "source": [
    "# Select multiple columns or rows using DataFrame.loc and a named slice.\n",
    "print(data.loc['Italy':'Poland', 'gdpPercap_1962':'gdpPercap_1972'])"
   ]
  },
  {
   "cell_type": "code",
   "execution_count": 22,
   "metadata": {},
   "outputs": [
    {
     "name": "stdout",
     "output_type": "stream",
     "text": [
      "gdpPercap_1962    13450.40151\n",
      "gdpPercap_1967    16361.87647\n",
      "gdpPercap_1972    18965.05551\n",
      "dtype: float64\n",
      "gdpPercap_1962    4649.593785\n",
      "gdpPercap_1967    5907.850937\n",
      "gdpPercap_1972    7778.414017\n",
      "dtype: float64\n"
     ]
    }
   ],
   "source": [
    "# Result of slicing can be used in further operations.\n",
    "print(data.loc['Italy':'Poland', 'gdpPercap_1962':'gdpPercap_1972'].max())\n",
    "print(data.loc['Italy':'Poland', 'gdpPercap_1962':'gdpPercap_1972'].min())"
   ]
  },
  {
   "cell_type": "code",
   "execution_count": 23,
   "metadata": {},
   "outputs": [
    {
     "name": "stdout",
     "output_type": "stream",
     "text": [
      "Subset of data:\n",
      "              gdpPercap_1962  gdpPercap_1967  gdpPercap_1972\n",
      "country                                                    \n",
      "Italy           8243.582340    10022.401310    12269.273780\n",
      "Montenegro      4649.593785     5907.850937     7778.414017\n",
      "Netherlands    12790.849560    15363.251360    18794.745670\n",
      "Norway         13450.401510    16361.876470    18965.055510\n",
      "Poland          5338.752143     6557.152776     8006.506993\n",
      "\n",
      "Where are values large?\n",
      "              gdpPercap_1962  gdpPercap_1967  gdpPercap_1972\n",
      "country                                                    \n",
      "Italy                 False            True            True\n",
      "Montenegro            False           False           False\n",
      "Netherlands            True            True            True\n",
      "Norway                 True            True            True\n",
      "Poland                False           False           False\n"
     ]
    }
   ],
   "source": [
    "# Use comparisons to select data based on value.\n",
    "# Use a subset of data to keep output readable.\n",
    "subset = data.loc['Italy':'Poland', 'gdpPercap_1962':'gdpPercap_1972']\n",
    "print('Subset of data:\\n', subset)\n",
    "\n",
    "# Which values were greater than 10000 ?\n",
    "print('\\nWhere are values large?\\n', subset > 10000)"
   ]
  },
  {
   "cell_type": "code",
   "execution_count": 24,
   "metadata": {},
   "outputs": [
    {
     "name": "stdout",
     "output_type": "stream",
     "text": [
      "             gdpPercap_1962  gdpPercap_1967  gdpPercap_1972\n",
      "country                                                    \n",
      "Italy                   NaN     10022.40131     12269.27378\n",
      "Montenegro              NaN             NaN             NaN\n",
      "Netherlands     12790.84956     15363.25136     18794.74567\n",
      "Norway          13450.40151     16361.87647     18965.05551\n",
      "Poland                  NaN             NaN             NaN\n"
     ]
    }
   ],
   "source": [
    "# Select values or NaN using a Boolean mask.\n",
    "mask = subset > 10000\n",
    "print(subset[mask])"
   ]
  },
  {
   "cell_type": "code",
   "execution_count": 25,
   "metadata": {},
   "outputs": [
    {
     "name": "stdout",
     "output_type": "stream",
     "text": [
      "       gdpPercap_1962  gdpPercap_1967  gdpPercap_1972\n",
      "count        2.000000        3.000000        3.000000\n",
      "mean     13120.625535    13915.843047    16676.358320\n",
      "std        466.373656     3408.589070     3817.597015\n",
      "min      12790.849560    10022.401310    12269.273780\n",
      "25%      12955.737547    12692.826335    15532.009725\n",
      "50%      13120.625535    15363.251360    18794.745670\n",
      "75%      13285.513523    15862.563915    18879.900590\n",
      "max      13450.401510    16361.876470    18965.055510\n"
     ]
    }
   ],
   "source": [
    "print(subset[subset > 10000].describe())"
   ]
  },
  {
   "cell_type": "code",
   "execution_count": 26,
   "metadata": {},
   "outputs": [
    {
     "data": {
      "text/plain": [
       "country\n",
       "Albania                   0.000000\n",
       "Austria                   1.000000\n",
       "Belgium                   1.000000\n",
       "Bosnia and Herzegovina    0.000000\n",
       "Bulgaria                  0.000000\n",
       "Croatia                   0.000000\n",
       "Czech Republic            0.500000\n",
       "Denmark                   1.000000\n",
       "Finland                   1.000000\n",
       "France                    1.000000\n",
       "Germany                   1.000000\n",
       "Greece                    0.333333\n",
       "Hungary                   0.000000\n",
       "Iceland                   1.000000\n",
       "Ireland                   0.333333\n",
       "Italy                     0.500000\n",
       "Montenegro                0.000000\n",
       "Netherlands               1.000000\n",
       "Norway                    1.000000\n",
       "Poland                    0.000000\n",
       "Portugal                  0.000000\n",
       "Romania                   0.000000\n",
       "Serbia                    0.000000\n",
       "Slovak Republic           0.000000\n",
       "Slovenia                  0.333333\n",
       "Spain                     0.333333\n",
       "Sweden                    1.000000\n",
       "Switzerland               1.000000\n",
       "Turkey                    0.000000\n",
       "United Kingdom            1.000000\n",
       "dtype: float64"
      ]
     },
     "execution_count": 26,
     "metadata": {},
     "output_type": "execute_result"
    }
   ],
   "source": [
    "# Select-Apply-Combine operations\n",
    "mask_higher = data.apply(lambda x:x>x.mean())\n",
    "wealth_score = mask_higher.aggregate('sum',axis=1)/len(data.columns)\n",
    "wealth_score"
   ]
  },
  {
   "cell_type": "code",
   "execution_count": 27,
   "metadata": {},
   "outputs": [
    {
     "data": {
      "text/html": [
       "<div>\n",
       "<style scoped>\n",
       "    .dataframe tbody tr th:only-of-type {\n",
       "        vertical-align: middle;\n",
       "    }\n",
       "\n",
       "    .dataframe tbody tr th {\n",
       "        vertical-align: top;\n",
       "    }\n",
       "\n",
       "    .dataframe thead th {\n",
       "        text-align: right;\n",
       "    }\n",
       "</style>\n",
       "<table border=\"1\" class=\"dataframe\">\n",
       "  <thead>\n",
       "    <tr style=\"text-align: right;\">\n",
       "      <th></th>\n",
       "      <th>gdpPercap_1952</th>\n",
       "      <th>gdpPercap_1957</th>\n",
       "      <th>gdpPercap_1962</th>\n",
       "      <th>gdpPercap_1967</th>\n",
       "      <th>gdpPercap_1972</th>\n",
       "      <th>gdpPercap_1977</th>\n",
       "      <th>gdpPercap_1982</th>\n",
       "      <th>gdpPercap_1987</th>\n",
       "      <th>gdpPercap_1992</th>\n",
       "      <th>gdpPercap_1997</th>\n",
       "      <th>gdpPercap_2002</th>\n",
       "      <th>gdpPercap_2007</th>\n",
       "    </tr>\n",
       "  </thead>\n",
       "  <tbody>\n",
       "    <tr>\n",
       "      <th>0.000000</th>\n",
       "      <td>36916.854200</td>\n",
       "      <td>46110.918793</td>\n",
       "      <td>56850.065437</td>\n",
       "      <td>71324.848786</td>\n",
       "      <td>88569.346898</td>\n",
       "      <td>104459.358438</td>\n",
       "      <td>113553.768507</td>\n",
       "      <td>119649.599409</td>\n",
       "      <td>92380.047256</td>\n",
       "      <td>103772.937598</td>\n",
       "      <td>118590.929863</td>\n",
       "      <td>149577.357928</td>\n",
       "    </tr>\n",
       "    <tr>\n",
       "      <th>0.333333</th>\n",
       "      <td>16790.046878</td>\n",
       "      <td>20942.456800</td>\n",
       "      <td>25744.935321</td>\n",
       "      <td>33567.667670</td>\n",
       "      <td>45277.839976</td>\n",
       "      <td>53860.456750</td>\n",
       "      <td>59679.634020</td>\n",
       "      <td>64436.912960</td>\n",
       "      <td>67918.093220</td>\n",
       "      <td>80876.051580</td>\n",
       "      <td>102086.795210</td>\n",
       "      <td>122803.729520</td>\n",
       "    </tr>\n",
       "    <tr>\n",
       "      <th>0.500000</th>\n",
       "      <td>11807.544405</td>\n",
       "      <td>14505.000150</td>\n",
       "      <td>18380.449470</td>\n",
       "      <td>21421.846200</td>\n",
       "      <td>25377.727380</td>\n",
       "      <td>29056.145370</td>\n",
       "      <td>31914.712050</td>\n",
       "      <td>35517.678220</td>\n",
       "      <td>36310.666080</td>\n",
       "      <td>40723.538700</td>\n",
       "      <td>45564.308390</td>\n",
       "      <td>51403.028210</td>\n",
       "    </tr>\n",
       "    <tr>\n",
       "      <th>1.000000</th>\n",
       "      <td>104317.277560</td>\n",
       "      <td>127332.008735</td>\n",
       "      <td>149989.154201</td>\n",
       "      <td>178000.350040</td>\n",
       "      <td>215162.343140</td>\n",
       "      <td>241143.412730</td>\n",
       "      <td>263388.781960</td>\n",
       "      <td>296825.131210</td>\n",
       "      <td>315238.235970</td>\n",
       "      <td>346930.926170</td>\n",
       "      <td>385109.939210</td>\n",
       "      <td>427850.333420</td>\n",
       "    </tr>\n",
       "  </tbody>\n",
       "</table>\n",
       "</div>"
      ],
      "text/plain": [
       "          gdpPercap_1952  gdpPercap_1957  gdpPercap_1962  gdpPercap_1967  \\\n",
       "0.000000    36916.854200    46110.918793    56850.065437    71324.848786   \n",
       "0.333333    16790.046878    20942.456800    25744.935321    33567.667670   \n",
       "0.500000    11807.544405    14505.000150    18380.449470    21421.846200   \n",
       "1.000000   104317.277560   127332.008735   149989.154201   178000.350040   \n",
       "\n",
       "          gdpPercap_1972  gdpPercap_1977  gdpPercap_1982  gdpPercap_1987  \\\n",
       "0.000000    88569.346898   104459.358438   113553.768507   119649.599409   \n",
       "0.333333    45277.839976    53860.456750    59679.634020    64436.912960   \n",
       "0.500000    25377.727380    29056.145370    31914.712050    35517.678220   \n",
       "1.000000   215162.343140   241143.412730   263388.781960   296825.131210   \n",
       "\n",
       "          gdpPercap_1992  gdpPercap_1997  gdpPercap_2002  gdpPercap_2007  \n",
       "0.000000    92380.047256   103772.937598   118590.929863   149577.357928  \n",
       "0.333333    67918.093220    80876.051580   102086.795210   122803.729520  \n",
       "0.500000    36310.666080    40723.538700    45564.308390    51403.028210  \n",
       "1.000000   315238.235970   346930.926170   385109.939210   427850.333420  "
      ]
     },
     "execution_count": 27,
     "metadata": {},
     "output_type": "execute_result"
    }
   ],
   "source": [
    "data.groupby(wealth_score).sum()"
   ]
  },
  {
   "cell_type": "code",
   "execution_count": 31,
   "metadata": {},
   "outputs": [
    {
     "name": "stdout",
     "output_type": "stream",
     "text": [
      "                        gdpPercap_1952  gdpPercap_1957  gdpPercap_1962  \\\n",
      "country                                                                  \n",
      "Albania                    1601.056136     1942.284244     2312.888958   \n",
      "Austria                    6137.076492     8842.598030    10750.721110   \n",
      "Belgium                    8343.105127     9714.960623    10991.206760   \n",
      "Bosnia and Herzegovina      973.533195     1353.989176     1709.683679   \n",
      "Bulgaria                   2444.286648     3008.670727     4254.337839   \n",
      "Croatia                    3119.236520     4338.231617     5477.890018   \n",
      "Czech Republic             6876.140250     8256.343918    10136.867130   \n",
      "Denmark                    9692.385245    11099.659350    13583.313510   \n",
      "Finland                    6424.519071     7545.415386     9371.842561   \n",
      "France                     7029.809327     8662.834898    10560.485530   \n",
      "Germany                    7144.114393    10187.826650    12902.462910   \n",
      "Greece                     3530.690067     4916.299889     6017.190733   \n",
      "Hungary                    5263.673816     6040.180011     7550.359877   \n",
      "Iceland                    7267.688428     9244.001412    10350.159060   \n",
      "Ireland                    5210.280328     5599.077872     6631.597314   \n",
      "Italy                      4931.404155     6248.656232     8243.582340   \n",
      "Montenegro                 2647.585601     3682.259903     4649.593785   \n",
      "Netherlands                8941.571858    11276.193440    12790.849560   \n",
      "Norway                    10095.421720    11653.973040    13450.401510   \n",
      "Poland                     4029.329699     4734.253019     5338.752143   \n",
      "Portugal                   3068.319867     3774.571743     4727.954889   \n",
      "Romania                    3144.613186     3943.370225     4734.997586   \n",
      "Serbia                     3581.459448     4981.090891     6289.629157   \n",
      "Slovak Republic            5074.659104     6093.262980     7481.107598   \n",
      "Slovenia                   4215.041741     5862.276629     7402.303395   \n",
      "Spain                      3834.034742     4564.802410     5693.843879   \n",
      "Sweden                     8527.844662     9911.878226    12329.441920   \n",
      "Switzerland               14734.232750    17909.489730    20431.092700   \n",
      "Turkey                     1969.100980     2218.754257     2322.869908   \n",
      "United Kingdom             9979.508487    11283.177950    12477.177070   \n",
      "\n",
      "                        gdpPercap_1967  gdpPercap_1972  gdpPercap_1977  \\\n",
      "country                                                                  \n",
      "Albania                    2760.196931     3313.422188     3533.003910   \n",
      "Austria                   12834.602400    16661.625600    19749.422300   \n",
      "Belgium                   13149.041190    16672.143560    19117.974480   \n",
      "Bosnia and Herzegovina     2172.352423     2860.169750     3528.481305   \n",
      "Bulgaria                   5577.002800     6597.494398     7612.240438   \n",
      "Croatia                    6960.297861     9164.090127    11305.385170   \n",
      "Czech Republic            11399.444890    13108.453600    14800.160620   \n",
      "Denmark                   15937.211230    18866.207210    20422.901500   \n",
      "Finland                   10921.636260    14358.875900    15605.422830   \n",
      "France                    12999.917660    16107.191710    18292.635140   \n",
      "Germany                   14745.625610    18016.180270    20512.921230   \n",
      "Greece                     8513.097016    12724.829570    14195.524280   \n",
      "Hungary                    9326.644670    10168.656110    11674.837370   \n",
      "Iceland                   13319.895680    15798.063620    19654.962470   \n",
      "Ireland                    7655.568963     9530.772896    11150.981130   \n",
      "Italy                     10022.401310    12269.273780    14255.984750   \n",
      "Montenegro                 5907.850937     7778.414017     9595.929905   \n",
      "Netherlands               15363.251360    18794.745670    21209.059200   \n",
      "Norway                    16361.876470    18965.055510    23311.349390   \n",
      "Poland                     6557.152776     8006.506993     9508.141454   \n",
      "Portugal                   6361.517993     9022.247417    10172.485720   \n",
      "Romania                    6470.866545     8011.414402     9356.397240   \n",
      "Serbia                     7991.707066    10522.067490    12980.669560   \n",
      "Slovak Republic            8412.902397     9674.167626    10922.664040   \n",
      "Slovenia                   9405.489397    12383.486200    15277.030170   \n",
      "Spain                      7993.512294    10638.751310    13236.921170   \n",
      "Sweden                    15258.296970    17832.024640    18855.725210   \n",
      "Switzerland               22966.144320    27195.113040    26982.290520   \n",
      "Turkey                     2826.356387     3450.696380     4269.122326   \n",
      "United Kingdom            14142.850890    15895.116410    17428.748460   \n",
      "\n",
      "                        gdpPercap_1982  gdpPercap_1987  gdpPercap_1992  \\\n",
      "country                                                                  \n",
      "Albania                    3630.880722     3738.932735     2497.437901   \n",
      "Austria                   21597.083620    23687.826070    27042.018680   \n",
      "Belgium                   20979.845890    22525.563080    25575.570690   \n",
      "Bosnia and Herzegovina     4126.613157     4314.114757     2546.781445   \n",
      "Bulgaria                   8224.191647     8239.854824     6302.623438   \n",
      "Croatia                   13221.821840    13822.583940     8447.794873   \n",
      "Czech Republic            15377.228550    16310.443400    14297.021220   \n",
      "Denmark                   21688.040480    25116.175810    26406.739850   \n",
      "Finland                   18533.157610    21141.012230    20647.164990   \n",
      "France                    20293.897460    22066.442140    24703.796150   \n",
      "Germany                   22031.532740    24639.185660    26505.303170   \n",
      "Greece                    15268.420890    16120.528390    17541.496340   \n",
      "Hungary                   12545.990660    12986.479980    10535.628550   \n",
      "Iceland                   23269.607500    26923.206280    25144.392010   \n",
      "Ireland                   12618.321410    13872.866520    17558.815550   \n",
      "Italy                     16537.483500    19207.234820    22013.644860   \n",
      "Montenegro                11222.587620    11732.510170     7003.339037   \n",
      "Netherlands               21399.460460    23651.323610    26790.949610   \n",
      "Norway                    26298.635310    31540.974800    33965.661150   \n",
      "Poland                     8451.531004     9082.351172     7738.881247   \n",
      "Portugal                  11753.842910    13039.308760    16207.266630   \n",
      "Romania                    9605.314053     9696.273295     6598.409903   \n",
      "Serbia                    15181.092700    15870.878510     9325.068238   \n",
      "Slovak Republic           11348.545850    12037.267580     9498.467723   \n",
      "Slovenia                  17866.721750    18678.534920    14214.716810   \n",
      "Spain                     13926.169970    15764.983130    18603.064520   \n",
      "Sweden                    20667.381250    23586.929270    23880.016830   \n",
      "Switzerland               28397.715120    30281.704590    31871.530300   \n",
      "Turkey                     4241.356344     5089.043686     5678.348271   \n",
      "United Kingdom            18232.424520    21664.787670    22705.092540   \n",
      "\n",
      "                        gdpPercap_1997  gdpPercap_2002  gdpPercap_2007  \n",
      "country                                                                 \n",
      "Albania                    3193.054604     4604.211737     5937.029526  \n",
      "Austria                   29095.920660    32417.607690    36126.492700  \n",
      "Belgium                   27561.196630    30485.883750    33692.605080  \n",
      "Bosnia and Herzegovina     4766.355904     6018.975239     7446.298803  \n",
      "Bulgaria                   5970.388760     7696.777725    10680.792820  \n",
      "Croatia                    9875.604515    11628.388950    14619.222720  \n",
      "Czech Republic            16048.514240    17596.210220    22833.308510  \n",
      "Denmark                   29804.345670    32166.500060    35278.418740  \n",
      "Finland                   23723.950200    28204.590570    33207.084400  \n",
      "France                    25889.784870    28926.032340    30470.016700  \n",
      "Germany                   27788.884160    30035.801980    32170.374420  \n",
      "Greece                    18747.698140    22514.254800    27538.411880  \n",
      "Hungary                   11712.776800    14843.935560    18008.944440  \n",
      "Iceland                   28061.099660    31163.201960    36180.789190  \n",
      "Ireland                   24521.947130    34077.049390    40675.996350  \n",
      "Italy                     24675.024460    27968.098170    28569.719700  \n",
      "Montenegro                 6465.613349     6557.194282     9253.896111  \n",
      "Netherlands               30246.130630    33724.757780    36797.933320  \n",
      "Norway                    41283.164330    44683.975250    49357.190170  \n",
      "Poland                    10159.583680    12002.239080    15389.924680  \n",
      "Portugal                  17641.031560    19970.907870    20509.647770  \n",
      "Romania                    7346.547557     7885.360081    10808.475610  \n",
      "Serbia                     7914.320304     7236.075251     9786.534714  \n",
      "Slovak Republic           12126.230650    13638.778370    18678.314350  \n",
      "Slovenia                  17161.107350    20660.019360    25768.257590  \n",
      "Spain                     20445.298960    24835.471660    28821.063700  \n",
      "Sweden                    25266.594990    29341.630930    33859.748350  \n",
      "Switzerland               32135.323010    34480.957710    37506.419070  \n",
      "Turkey                     6601.429915     6508.085718     8458.276384  \n",
      "United Kingdom            26074.531360    29478.999190    33203.261280  \n"
     ]
    }
   ],
   "source": [
    "# Read Europe dataset into a DataFrame:\n",
    "df = pd.read_csv('data/gapminder_gdp_europe.csv', index_col='country')\n",
    "print(df)"
   ]
  },
  {
   "cell_type": "code",
   "execution_count": 33,
   "metadata": {},
   "outputs": [
    {
     "name": "stdout",
     "output_type": "stream",
     "text": [
      "9786.534714\n"
     ]
    }
   ],
   "source": [
    "# Find the Per Capita GDP of Serbia in 2007:\n",
    "print(df.loc['Serbia', 'gdpPercap_2007'])"
   ]
  },
  {
   "cell_type": "code",
   "execution_count": 34,
   "metadata": {},
   "outputs": [
    {
     "name": "stdout",
     "output_type": "stream",
     "text": [
      "         gdpPercap_1952  gdpPercap_1957\n",
      "country                                \n",
      "Albania     1601.056136     1942.284244\n",
      "Austria     6137.076492     8842.598030\n",
      "         gdpPercap_1952  gdpPercap_1957  gdpPercap_1962\n",
      "country                                                \n",
      "Albania     1601.056136     1942.284244     2312.888958\n",
      "Austria     6137.076492     8842.598030    10750.721110\n",
      "Belgium     8343.105127     9714.960623    10991.206760\n"
     ]
    }
   ],
   "source": [
    "# Extent of Slicing:\n",
    "print(df.iloc[0:2, 0:2])\n",
    "print(df.loc['Albania':'Belgium', 'gdpPercap_1952':'gdpPercap_1962'])"
   ]
  },
  {
   "cell_type": "code",
   "execution_count": 35,
   "metadata": {},
   "outputs": [],
   "source": [
    "# No, the above 2 statements do not produce the same output.\n",
    "# The first statement produces a 2x2 df. The second statment \n",
    "# produces a 3x3 df - additional column and additional row.\n",
    "# Numerical slice excludes the final index.\n",
    "# Named slice includes the final index."
   ]
  },
  {
   "cell_type": "code",
   "execution_count": 46,
   "metadata": {},
   "outputs": [],
   "source": [
    "# Reconstructing Data:\n",
    "# Read in 'gapminder_all.csv' to a pandas DF using 'country' as index column:\n",
    "first = pandas.read_csv('data/gapminder_all.csv', index_col='country')\n",
    "# print(first)\n",
    "# Get the rows of 'first' df where 'continent' is 'Americas'\n",
    "second = first[first['continent'] == 'Americas']\n",
    "# print(second)\n",
    "# Remove Puerto Rico from DF\n",
    "third = second.drop('Puerto Rico')\n",
    "# print(third)\n",
    "# Remove 'continent' from columns\n",
    "fourth = third.drop('continent', axis = 1)\n",
    "# print(fourth)\n",
    "# Export 'fourth' DF to .csv file\n",
    "fourth.to_csv('processed_data/result.csv')"
   ]
  },
  {
   "cell_type": "code",
   "execution_count": 49,
   "metadata": {},
   "outputs": [
    {
     "name": "stdout",
     "output_type": "stream",
     "text": [
      "gdpPercap_1952    Bosnia and Herzegovina\n",
      "gdpPercap_1957    Bosnia and Herzegovina\n",
      "gdpPercap_1962    Bosnia and Herzegovina\n",
      "gdpPercap_1967    Bosnia and Herzegovina\n",
      "gdpPercap_1972    Bosnia and Herzegovina\n",
      "gdpPercap_1977    Bosnia and Herzegovina\n",
      "gdpPercap_1982                   Albania\n",
      "gdpPercap_1987                   Albania\n",
      "gdpPercap_1992                   Albania\n",
      "gdpPercap_1997                   Albania\n",
      "gdpPercap_2002                   Albania\n",
      "gdpPercap_2007                   Albania\n",
      "dtype: object\n",
      "gdpPercap_1952    Switzerland\n",
      "gdpPercap_1957    Switzerland\n",
      "gdpPercap_1962    Switzerland\n",
      "gdpPercap_1967    Switzerland\n",
      "gdpPercap_1972    Switzerland\n",
      "gdpPercap_1977    Switzerland\n",
      "gdpPercap_1982    Switzerland\n",
      "gdpPercap_1987         Norway\n",
      "gdpPercap_1992         Norway\n",
      "gdpPercap_1997         Norway\n",
      "gdpPercap_2002         Norway\n",
      "gdpPercap_2007         Norway\n",
      "dtype: object\n"
     ]
    }
   ],
   "source": [
    "# Selecting Indices:\n",
    "data = pandas.read_csv('data/gapminder_gdp_europe.csv', index_col='country')\n",
    "# print(data)\n",
    "# Returns index of first occurrence of maximum value for each column\n",
    "print(data.idxmin())\n",
    "# Returns index of first occurrence of minimum value for each column\n",
    "print(data.idxmax())"
   ]
  },
  {
   "cell_type": "code",
   "execution_count": 55,
   "metadata": {},
   "outputs": [
    {
     "name": "stdout",
     "output_type": "stream",
     "text": [
      "country\n",
      "Albania                    3630.880722\n",
      "Austria                   21597.083620\n",
      "Belgium                   20979.845890\n",
      "Bosnia and Herzegovina     4126.613157\n",
      "Bulgaria                   8224.191647\n",
      "Croatia                   13221.821840\n",
      "Czech Republic            15377.228550\n",
      "Denmark                   21688.040480\n",
      "Finland                   18533.157610\n",
      "France                    20293.897460\n",
      "Germany                   22031.532740\n",
      "Greece                    15268.420890\n",
      "Hungary                   12545.990660\n",
      "Iceland                   23269.607500\n",
      "Ireland                   12618.321410\n",
      "Italy                     16537.483500\n",
      "Montenegro                11222.587620\n",
      "Netherlands               21399.460460\n",
      "Norway                    26298.635310\n",
      "Poland                     8451.531004\n",
      "Portugal                  11753.842910\n",
      "Romania                    9605.314053\n",
      "Serbia                    15181.092700\n",
      "Slovak Republic           11348.545850\n",
      "Slovenia                  17866.721750\n",
      "Spain                     13926.169970\n",
      "Sweden                    20667.381250\n",
      "Switzerland               28397.715120\n",
      "Turkey                     4241.356344\n",
      "United Kingdom            18232.424520\n",
      "Name: gdpPercap_1982, dtype: float64\n",
      "gdpPercap_1952     9692.385245\n",
      "gdpPercap_1957    11099.659350\n",
      "gdpPercap_1962    13583.313510\n",
      "gdpPercap_1967    15937.211230\n",
      "gdpPercap_1972    18866.207210\n",
      "gdpPercap_1977    20422.901500\n",
      "gdpPercap_1982    21688.040480\n",
      "gdpPercap_1987    25116.175810\n",
      "gdpPercap_1992    26406.739850\n",
      "gdpPercap_1997    29804.345670\n",
      "gdpPercap_2002    32166.500060\n",
      "gdpPercap_2007    35278.418740\n",
      "Name: Denmark, dtype: float64\n",
      "                        gdpPercap_1987  gdpPercap_1992  gdpPercap_1997  \\\n",
      "country                                                                  \n",
      "Albania                    3738.932735     2497.437901     3193.054604   \n",
      "Austria                   23687.826070    27042.018680    29095.920660   \n",
      "Belgium                   22525.563080    25575.570690    27561.196630   \n",
      "Bosnia and Herzegovina     4314.114757     2546.781445     4766.355904   \n",
      "Bulgaria                   8239.854824     6302.623438     5970.388760   \n",
      "Croatia                   13822.583940     8447.794873     9875.604515   \n",
      "Czech Republic            16310.443400    14297.021220    16048.514240   \n",
      "Denmark                   25116.175810    26406.739850    29804.345670   \n",
      "Finland                   21141.012230    20647.164990    23723.950200   \n",
      "France                    22066.442140    24703.796150    25889.784870   \n",
      "Germany                   24639.185660    26505.303170    27788.884160   \n",
      "Greece                    16120.528390    17541.496340    18747.698140   \n",
      "Hungary                   12986.479980    10535.628550    11712.776800   \n",
      "Iceland                   26923.206280    25144.392010    28061.099660   \n",
      "Ireland                   13872.866520    17558.815550    24521.947130   \n",
      "Italy                     19207.234820    22013.644860    24675.024460   \n",
      "Montenegro                11732.510170     7003.339037     6465.613349   \n",
      "Netherlands               23651.323610    26790.949610    30246.130630   \n",
      "Norway                    31540.974800    33965.661150    41283.164330   \n",
      "Poland                     9082.351172     7738.881247    10159.583680   \n",
      "Portugal                  13039.308760    16207.266630    17641.031560   \n",
      "Romania                    9696.273295     6598.409903     7346.547557   \n",
      "Serbia                    15870.878510     9325.068238     7914.320304   \n",
      "Slovak Republic           12037.267580     9498.467723    12126.230650   \n",
      "Slovenia                  18678.534920    14214.716810    17161.107350   \n",
      "Spain                     15764.983130    18603.064520    20445.298960   \n",
      "Sweden                    23586.929270    23880.016830    25266.594990   \n",
      "Switzerland               30281.704590    31871.530300    32135.323010   \n",
      "Turkey                     5089.043686     5678.348271     6601.429915   \n",
      "United Kingdom            21664.787670    22705.092540    26074.531360   \n",
      "\n",
      "                        gdpPercap_2002  gdpPercap_2007  \n",
      "country                                                 \n",
      "Albania                    4604.211737     5937.029526  \n",
      "Austria                   32417.607690    36126.492700  \n",
      "Belgium                   30485.883750    33692.605080  \n",
      "Bosnia and Herzegovina     6018.975239     7446.298803  \n",
      "Bulgaria                   7696.777725    10680.792820  \n",
      "Croatia                   11628.388950    14619.222720  \n",
      "Czech Republic            17596.210220    22833.308510  \n",
      "Denmark                   32166.500060    35278.418740  \n",
      "Finland                   28204.590570    33207.084400  \n",
      "France                    28926.032340    30470.016700  \n",
      "Germany                   30035.801980    32170.374420  \n",
      "Greece                    22514.254800    27538.411880  \n",
      "Hungary                   14843.935560    18008.944440  \n",
      "Iceland                   31163.201960    36180.789190  \n",
      "Ireland                   34077.049390    40675.996350  \n",
      "Italy                     27968.098170    28569.719700  \n",
      "Montenegro                 6557.194282     9253.896111  \n",
      "Netherlands               33724.757780    36797.933320  \n",
      "Norway                    44683.975250    49357.190170  \n",
      "Poland                    12002.239080    15389.924680  \n",
      "Portugal                  19970.907870    20509.647770  \n",
      "Romania                    7885.360081    10808.475610  \n",
      "Serbia                     7236.075251     9786.534714  \n",
      "Slovak Republic           13638.778370    18678.314350  \n",
      "Slovenia                  20660.019360    25768.257590  \n",
      "Spain                     24835.471660    28821.063700  \n",
      "Sweden                    29341.630930    33859.748350  \n",
      "Switzerland               34480.957710    37506.419070  \n",
      "Turkey                     6508.085718     8458.276384  \n",
      "United Kingdom            29478.999190    33203.261280  \n",
      "country\n",
      "Albania                   3.708196\n",
      "Austria                   5.886596\n",
      "Belgium                   4.038377\n",
      "Bosnia and Herzegovina    7.648736\n",
      "Bulgaria                  4.369697\n",
      "Croatia                   4.686795\n",
      "Czech Republic            3.320658\n",
      "Denmark                   3.639808\n",
      "Finland                   5.168805\n",
      "France                    4.334402\n",
      "Germany                   4.503060\n",
      "Greece                    7.799725\n",
      "Hungary                   3.421364\n",
      "Iceland                   4.978308\n",
      "Ireland                   7.806873\n",
      "Italy                     5.793425\n",
      "Montenegro                3.495221\n",
      "Netherlands               4.115376\n",
      "Norway                    4.889067\n",
      "Poland                    3.819475\n",
      "Portugal                  6.684325\n",
      "Romania                   3.437140\n",
      "Serbia                    2.732555\n",
      "Slovak Republic           3.680703\n",
      "Slovenia                  6.113405\n",
      "Spain                     7.517163\n",
      "Sweden                    3.970493\n",
      "Switzerland               2.545529\n",
      "Turkey                    4.295502\n",
      "United Kingdom            3.327144\n",
      "dtype: float64\n"
     ]
    }
   ],
   "source": [
    "# Practice with Selection:\n",
    "# Read europe data to pandas DataFrame using 'country' as index column:\n",
    "europe = pd.read_csv('data/gapminder_gdp_europe.csv', index_col='country')\n",
    "# Write an expression to select each of the following:\n",
    "# 1) GDP per capita for all countries in 1982:\n",
    "print(europe.loc[:, 'gdpPercap_1982'])\n",
    "# 2) GDP per capita for Denmark for all years:\n",
    "print(europe.loc['Denmark', :])\n",
    "# 3) GDP per capita for all countries for years after 1985.\n",
    "print(europe.loc[:, 'gdpPercap_1985':])\n",
    "# 4) GDP per capita for each country in 2007 as a multiple of GDP per\n",
    "# capita for that country in 1952.\n",
    "print(europe['gdpPercap_2007']/europe['gdpPercap_1952'])"
   ]
  },
  {
   "cell_type": "code",
   "execution_count": 56,
   "metadata": {},
   "outputs": [
    {
     "data": {
      "text/plain": [
       "['__add__',\n",
       " '__class__',\n",
       " '__contains__',\n",
       " '__delattr__',\n",
       " '__delitem__',\n",
       " '__dir__',\n",
       " '__doc__',\n",
       " '__eq__',\n",
       " '__format__',\n",
       " '__ge__',\n",
       " '__getattribute__',\n",
       " '__getitem__',\n",
       " '__gt__',\n",
       " '__hash__',\n",
       " '__iadd__',\n",
       " '__imul__',\n",
       " '__init__',\n",
       " '__init_subclass__',\n",
       " '__iter__',\n",
       " '__le__',\n",
       " '__len__',\n",
       " '__lt__',\n",
       " '__mul__',\n",
       " '__ne__',\n",
       " '__new__',\n",
       " '__reduce__',\n",
       " '__reduce_ex__',\n",
       " '__repr__',\n",
       " '__reversed__',\n",
       " '__rmul__',\n",
       " '__setattr__',\n",
       " '__setitem__',\n",
       " '__sizeof__',\n",
       " '__str__',\n",
       " '__subclasshook__',\n",
       " 'append',\n",
       " 'clear',\n",
       " 'copy',\n",
       " 'count',\n",
       " 'extend',\n",
       " 'index',\n",
       " 'insert',\n",
       " 'pop',\n",
       " 'remove',\n",
       " 'reverse',\n",
       " 'sort']"
      ]
     },
     "execution_count": 56,
     "metadata": {},
     "output_type": "execute_result"
    }
   ],
   "source": [
    "# Using the dir function to see available methods:\n",
    "potatoes = [\"Russet\", \"Norkota\", \"Yukon Gold\", \"Pontiac\"]\n",
    "dir(potatoes)\n",
    "\n",
    "# Sort potatoes array:\n",
    "potatoes.sort()"
   ]
  },
  {
   "cell_type": "code",
   "execution_count": 61,
   "metadata": {},
   "outputs": [
    {
     "data": {
      "text/plain": [
       "gdpPercap_1952     5142.469716\n",
       "gdpPercap_1957     6066.721495\n",
       "gdpPercap_1962     7515.733738\n",
       "gdpPercap_1967     9366.067033\n",
       "gdpPercap_1972    12326.379990\n",
       "gdpPercap_1977    14225.754515\n",
       "gdpPercap_1982    15322.824720\n",
       "gdpPercap_1987    16215.485895\n",
       "gdpPercap_1992    17550.155945\n",
       "gdpPercap_1997    19596.498550\n",
       "gdpPercap_2002    23674.863230\n",
       "gdpPercap_2007    28054.065790\n",
       "dtype: float64"
      ]
     },
     "execution_count": 61,
     "metadata": {},
     "output_type": "execute_result"
    }
   ],
   "source": [
    "# Find functions of europe dataset:\n",
    "# dir(europe)\n",
    "# Print out median per-capita GDP across all European countries for each year:\n",
    "europe.median()"
   ]
  },
  {
   "cell_type": "code",
   "execution_count": 64,
   "metadata": {},
   "outputs": [
    {
     "name": "stdout",
     "output_type": "stream",
     "text": [
      "gdpPercap_1952     4029.329699\n",
      "gdpPercap_1957     4734.253019\n",
      "gdpPercap_1962     5338.752143\n",
      "gdpPercap_1967     6557.152776\n",
      "gdpPercap_1972     8006.506993\n",
      "gdpPercap_1977     9508.141454\n",
      "gdpPercap_1982     8451.531004\n",
      "gdpPercap_1987     9082.351172\n",
      "gdpPercap_1992     7738.881247\n",
      "gdpPercap_1997    10159.583680\n",
      "gdpPercap_2002    12002.239080\n",
      "gdpPercap_2007    15389.924680\n",
      "Name: Poland, dtype: float64\n"
     ]
    }
   ],
   "source": [
    "# Interpretation:\n",
    "# Poland’s borders have been stable since 1945, but changed several \n",
    "# times in the years before then. How would you handle this if you \n",
    "# were creating a table of GDP per capita for Poland for the entire \n",
    "# twentieth century?\n",
    "\n",
    "# Perhaps split the GDP into pre-1945 and post-1945.\n",
    "# print(europe.loc['Poland', :'gdpPercap_1945']) # Pre-1945 (no data provided)\n",
    "print(europe.loc['Poland', 'gdpPercap_1945':]) # Post-1945"
   ]
  },
  {
   "cell_type": "code",
   "execution_count": 139,
   "metadata": {},
   "outputs": [
    {
     "ename": "ModuleNotFoundError",
     "evalue": "No module named 'matplotlib.axes.Axes'",
     "output_type": "error",
     "traceback": [
      "\u001b[1;31m---------------------------------------------------------------------------\u001b[0m",
      "\u001b[1;31mModuleNotFoundError\u001b[0m                       Traceback (most recent call last)",
      "\u001b[1;32m<ipython-input-139-648a22d7fd1e>\u001b[0m in \u001b[0;36m<module>\u001b[1;34m\u001b[0m\n\u001b[0;32m      3\u001b[0m \u001b[1;33m\u001b[0m\u001b[0m\n\u001b[0;32m      4\u001b[0m \u001b[0mget_ipython\u001b[0m\u001b[1;33m(\u001b[0m\u001b[1;33m)\u001b[0m\u001b[1;33m.\u001b[0m\u001b[0mrun_line_magic\u001b[0m\u001b[1;33m(\u001b[0m\u001b[1;34m'matplotlib'\u001b[0m\u001b[1;33m,\u001b[0m \u001b[1;34m'inline'\u001b[0m\u001b[1;33m)\u001b[0m\u001b[1;33m\u001b[0m\u001b[1;33m\u001b[0m\u001b[0m\n\u001b[1;32m----> 5\u001b[1;33m \u001b[1;32mimport\u001b[0m \u001b[0mmatplotlib\u001b[0m\u001b[1;33m.\u001b[0m\u001b[0maxes\u001b[0m\u001b[1;33m.\u001b[0m\u001b[0mAxes\u001b[0m \u001b[1;32mas\u001b[0m \u001b[0max\u001b[0m\u001b[1;33m\u001b[0m\u001b[1;33m\u001b[0m\u001b[0m\n\u001b[0m\u001b[0;32m      6\u001b[0m \u001b[1;32mimport\u001b[0m \u001b[0mmatplotlib\u001b[0m\u001b[1;33m.\u001b[0m\u001b[0mpyplot\u001b[0m \u001b[1;32mas\u001b[0m \u001b[0mplt\u001b[0m\u001b[1;33m\u001b[0m\u001b[1;33m\u001b[0m\u001b[0m\n\u001b[0;32m      7\u001b[0m \u001b[1;33m\u001b[0m\u001b[0m\n",
      "\u001b[1;31mModuleNotFoundError\u001b[0m: No module named 'matplotlib.axes.Axes'"
     ]
    }
   ],
   "source": [
    "# --------------------------------------------------------------------\n",
    "# Section 9 - Plotting\n",
    "\n",
    "%matplotlib inline\n",
    "import matplotlib.axes.Axes as ax\n",
    "import matplotlib.pyplot as plt\n",
    "\n",
    "# Simple plots:\n",
    "time = [0, 1, 2, 3]\n",
    "position = [0, 100, 200, 300]\n",
    "\n",
    "plt.plot(time, position)\n",
    "plt.xlabel('Time (hr)')\n",
    "plt.ylabel('Position (km)')"
   ]
  },
  {
   "cell_type": "code",
   "execution_count": 68,
   "metadata": {},
   "outputs": [
    {
     "data": {
      "text/plain": [
       "<matplotlib.axes._subplots.AxesSubplot at 0x9922e80>"
      ]
     },
     "execution_count": 68,
     "metadata": {},
     "output_type": "execute_result"
    },
    {
     "data": {
      "image/png": "[encoded data removed]",
      "text/plain": [
       "<Figure size 432x288 with 1 Axes>"
      ]
     },
     "metadata": {
      "needs_background": "light"
     },
     "output_type": "display_data"
    }
   ],
   "source": [
    "# Plotting directly from a Pandas dataframe:\n",
    "data = pandas.read_csv('data/gapminder_gdp_oceania.csv', index_col='country')\n",
    "\n",
    "# Extract year from last 4 characters of each column name\n",
    "years = data.columns.str.strip('gdpPercap_')\n",
    "# Convert year values to integers, saving results back to dataframe\n",
    "data.columns = years.astype(int)\n",
    "\n",
    "data.loc['Australia'].plot()"
   ]
  },
  {
   "cell_type": "code",
   "execution_count": 69,
   "metadata": {},
   "outputs": [
    {
     "data": {
      "text/plain": [
       "Text(0, 0.5, 'GDP per capita')"
      ]
     },
     "execution_count": 69,
     "metadata": {},
     "output_type": "execute_result"
    },
    {
     "data": {
      "image/png": "[encoded data removed]",
      "text/plain": [
       "<Figure size 432x288 with 1 Axes>"
      ]
     },
     "metadata": {
      "needs_background": "light"
     },
     "output_type": "display_data"
    }
   ],
   "source": [
    "# Select and transform data, then plot:\n",
    "data.T.plot()\n",
    "plt.ylabel('GDP per capita')"
   ]
  },
  {
   "cell_type": "code",
   "execution_count": 70,
   "metadata": {},
   "outputs": [
    {
     "data": {
      "text/plain": [
       "Text(0, 0.5, 'GDP per capita')"
      ]
     },
     "execution_count": 70,
     "metadata": {},
     "output_type": "execute_result"
    },
    {
     "data": {
      "image/png": "[encoded data removed]",
      "text/plain": [
       "<Figure size 432x288 with 1 Axes>"
      ]
     },
     "metadata": {},
     "output_type": "display_data"
    }
   ],
   "source": [
    "# Different plot styles:\n",
    "plt.style.use('ggplot')\n",
    "data.T.plot(kind='bar')\n",
    "plt.ylabel('GDP per capita')"
   ]
  },
  {
   "cell_type": "code",
   "execution_count": 71,
   "metadata": {},
   "outputs": [
    {
     "data": {
      "text/plain": [
       "[<matplotlib.lines.Line2D at 0x9fda710>]"
      ]
     },
     "execution_count": 71,
     "metadata": {},
     "output_type": "execute_result"
    },
    {
     "data": {
      "image/png": "[encoded data removed]",
      "text/plain": [
       "<Figure size 432x288 with 1 Axes>"
      ]
     },
     "metadata": {},
     "output_type": "display_data"
    }
   ],
   "source": [
    "# Data can also be plotted by calling the matplotlib plot function directly.\n",
    "# Get Australia data from dataframe:\n",
    "years = data.columns\n",
    "gdp_australia = data.loc['Australia']\n",
    "\n",
    "plt.plot(years, gdp_australia, 'g--')"
   ]
  },
  {
   "cell_type": "code",
   "execution_count": 72,
   "metadata": {},
   "outputs": [
    {
     "data": {
      "text/plain": [
       "Text(0, 0.5, 'GDP per capita ($)')"
      ]
     },
     "execution_count": 72,
     "metadata": {},
     "output_type": "execute_result"
    },
    {
     "data": {
      "image/png": "[encoded data removed]",
      "text/plain": [
       "<Figure size 432x288 with 1 Axes>"
      ]
     },
     "metadata": {},
     "output_type": "display_data"
    }
   ],
   "source": [
    "# Can plot many sets of data together.\n",
    "# Select two countries' worth of data.\n",
    "gdp_australia = data.loc['Australia']\n",
    "gdp_nz = data.loc['New Zealand']\n",
    "\n",
    "# Plot with differently-colored markers.\n",
    "plt.plot(years, gdp_australia, 'b-', label='Australia')\n",
    "plt.plot(years, gdp_nz, 'g-', label='New Zealand')\n",
    "\n",
    "# Create legend.\n",
    "plt.legend(loc='upper left')\n",
    "plt.xlabel('Year')\n",
    "plt.ylabel('GDP per capita ($)')"
   ]
  },
  {
   "cell_type": "code",
   "execution_count": 74,
   "metadata": {},
   "outputs": [
    {
     "data": {
      "text/plain": [
       "<matplotlib.legend.Legend at 0xa70a160>"
      ]
     },
     "execution_count": 74,
     "metadata": {},
     "output_type": "execute_result"
    },
    {
     "data": {
      "image/png": "[encoded data removed]",
      "text/plain": [
       "<Figure size 432x288 with 1 Axes>"
      ]
     },
     "metadata": {},
     "output_type": "display_data"
    }
   ],
   "source": [
    "# Adding a legend:\n",
    "plt.plot(years, gdp_australia, label='Australia')\n",
    "plt.plot(years, gdp_nz, label='New Zealand')\n",
    "plt.legend(loc='upper left')"
   ]
  },
  {
   "cell_type": "code",
   "execution_count": 75,
   "metadata": {},
   "outputs": [
    {
     "data": {
      "text/plain": [
       "<matplotlib.collections.PathCollection at 0xa9a8ef0>"
      ]
     },
     "execution_count": 75,
     "metadata": {},
     "output_type": "execute_result"
    },
    {
     "data": {
      "image/png": "[encoded data removed]",
      "text/plain": [
       "<Figure size 432x288 with 1 Axes>"
      ]
     },
     "metadata": {},
     "output_type": "display_data"
    }
   ],
   "source": [
    "# Scatter plot:\n",
    "plt.scatter(gdp_australia, gdp_nz)"
   ]
  },
  {
   "cell_type": "code",
   "execution_count": 76,
   "metadata": {},
   "outputs": [
    {
     "data": {
      "text/plain": [
       "<matplotlib.axes._subplots.AxesSubplot at 0xac00240>"
      ]
     },
     "execution_count": 76,
     "metadata": {},
     "output_type": "execute_result"
    },
    {
     "data": {
      "image/png": "[encoded data removed]",
      "text/plain": [
       "<Figure size 432x288 with 1 Axes>"
      ]
     },
     "metadata": {},
     "output_type": "display_data"
    }
   ],
   "source": [
    "# Transform data, then scatter plot:\n",
    "data.T.plot.scatter(x = 'Australia', y = 'New Zealand')"
   ]
  },
  {
   "cell_type": "code",
   "execution_count": 77,
   "metadata": {},
   "outputs": [
    {
     "data": {
      "text/plain": [
       "(array([-2.,  0.,  2.,  4.,  6.,  8., 10., 12.]),\n",
       " <a list of 8 Text xticklabel objects>)"
      ]
     },
     "execution_count": 77,
     "metadata": {},
     "output_type": "execute_result"
    },
    {
     "data": {
      "image/png": "[encoded data removed]",
      "text/plain": [
       "<Figure size 432x288 with 1 Axes>"
      ]
     },
     "metadata": {},
     "output_type": "display_data"
    }
   ],
   "source": [
    "# Minima and maxima:\n",
    "# Fill in the blanks below to plot the minimum GDP per capita \n",
    "# over time for all the countries in Europe. Modify it again to \n",
    "# plot the maximum GDP per capita over time for Europe.\n",
    "data_europe = pandas.read_csv('data/gapminder_gdp_europe.csv', index_col='country')\n",
    "data_europe.min().plot(label='min')\n",
    "data_europe.max().plot(label='max')\n",
    "plt.legend(loc='best')\n",
    "plt.xticks(rotation=90)"
   ]
  },
  {
   "cell_type": "code",
   "execution_count": 82,
   "metadata": {},
   "outputs": [
    {
     "data": {
      "text/plain": [
       "<matplotlib.axes._subplots.AxesSubplot at 0xac65898>"
      ]
     },
     "execution_count": 82,
     "metadata": {},
     "output_type": "execute_result"
    },
    {
     "data": {
      "image/png": "[encoded data removed]",
      "text/plain": [
       "<Figure size 432x288 with 1 Axes>"
      ]
     },
     "metadata": {},
     "output_type": "display_data"
    }
   ],
   "source": [
    "# Correlations:\n",
    "# Modify the example in the notes to create a scatter plot showing \n",
    "# the relationship between the minimum and maximum GDP per capita \n",
    "# among the countries in Asia for each year in the data set. What \n",
    "# relationship do you see (if any)?\n",
    "data_asia = pandas.read_csv('data/gapminder_gdp_asia.csv', index_col='country')\n",
    "data_asia.describe().T.plot(kind='scatter', x='min', y='max')\n",
    "\n",
    "# Variability in max. is much larger than variability in min.\n"
   ]
  },
  {
   "cell_type": "code",
   "execution_count": 92,
   "metadata": {},
   "outputs": [
    {
     "name": "stdout",
     "output_type": "stream",
     "text": [
      "gdpPercap_1952    Myanmar\n",
      "gdpPercap_1957    Myanmar\n",
      "gdpPercap_1962    Myanmar\n",
      "gdpPercap_1967    Myanmar\n",
      "gdpPercap_1972    Myanmar\n",
      "gdpPercap_1977    Myanmar\n",
      "gdpPercap_1982    Myanmar\n",
      "gdpPercap_1987    Myanmar\n",
      "gdpPercap_1992    Myanmar\n",
      "gdpPercap_1997    Myanmar\n",
      "gdpPercap_2002    Myanmar\n",
      "gdpPercap_2007    Myanmar\n",
      "dtype: object\n"
     ]
    },
    {
     "data": {
      "image/png": "[encoded data removed]",
      "text/plain": [
       "<Figure size 432x288 with 1 Axes>"
      ]
     },
     "metadata": {},
     "output_type": "display_data"
    }
   ],
   "source": [
    "# Explore maximum data:\n",
    "data_asia.min().plot()\n",
    "plt.title(\"Minimum\")\n",
    "\n",
    "print(data_asia.idxmin())"
   ]
  },
  {
   "cell_type": "code",
   "execution_count": 88,
   "metadata": {},
   "outputs": [
    {
     "name": "stdout",
     "output_type": "stream",
     "text": [
      "gdpPercap_1952          Kuwait\n",
      "gdpPercap_1957          Kuwait\n",
      "gdpPercap_1962          Kuwait\n",
      "gdpPercap_1967          Kuwait\n",
      "gdpPercap_1972          Kuwait\n",
      "gdpPercap_1977          Kuwait\n",
      "gdpPercap_1982    Saudi Arabia\n",
      "gdpPercap_1987          Kuwait\n",
      "gdpPercap_1992          Kuwait\n",
      "gdpPercap_1997          Kuwait\n",
      "gdpPercap_2002       Singapore\n",
      "gdpPercap_2007          Kuwait\n",
      "dtype: object\n"
     ]
    },
    {
     "data": {
      "image/png": "[encoded data removed]",
      "text/plain": [
       "<Figure size 432x288 with 1 Axes>"
      ]
     },
     "metadata": {},
     "output_type": "display_data"
    }
   ],
   "source": [
    "data_asia.max().plot()\n",
    "plt.title(\"Maximum\")\n",
    "\n",
    "print(data_asia.idxmax())"
   ]
  },
  {
   "cell_type": "code",
   "execution_count": 144,
   "metadata": {
    "scrolled": true
   },
   "outputs": [
    {
     "data": {
      "image/png": "[encoded data removed]",
      "text/plain": [
       "<Figure size 432x288 with 1 Axes>"
      ]
     },
     "metadata": {
      "needs_background": "light"
     },
     "output_type": "display_data"
    }
   ],
   "source": [
    "data_asia = pandas.read_csv('data/gapminder_gdp_asia.csv', index_col='country')\n",
    "\n",
    "years = data_asia.columns\n",
    "# Extract year from last 4 characters of each column name\n",
    "years = data_asia.columns.str.strip('gdpPercap_')\n",
    "# Convert year values to integers, saving results back to dataframe\n",
    "data_asia.columns = years.astype(int)\n",
    "\n",
    "plt.plot(years, data_asia.max(), label=\"Maximum\")\n",
    "# plt.plot(years, data_asia.min(), label=\"Minimum\")\n",
    "plt.title('GDP per capita in Asia (1952-2007)', fontsize=16)\n",
    "plt.xlabel('Year', fontsize=14)\n",
    "plt.ylabel('GDP per capita ($)', fontsize=14)\n",
    "# ax.tick_params(axis='both', size=12)\n",
    "# ax.tick_params(axis='x', labelrotation=90)\n",
    "# plt.xticks(rotation=90)\n",
    "plt.legend()\n",
    "\n",
    "# Saving your plot to a file:\n",
    "# plt.savefig('figures/max_gdc_asia.png', dpi=600, bbox_inches='tight')\n",
    "fig = plt.gcf() # get current figure\n",
    "fig.savefig('figures/max_gdc_asia.png', dpi=600, bbox_inches='tight')"
   ]
  },
  {
   "cell_type": "code",
   "execution_count": 152,
   "metadata": {
    "scrolled": true
   },
   "outputs": [
    {
     "data": {
      "image/png": "[encoded data removed]",
      "text/plain": [
       "<Figure size 432x288 with 1 Axes>"
      ]
     },
     "metadata": {
      "needs_background": "light"
     },
     "output_type": "display_data"
    }
   ],
   "source": [
    "# More Correlations:\n",
    "# This short program creates a plot showing the correlation between \n",
    "# GDP and life expectancy for 2007, normalizing marker size by population:\n",
    "\n",
    "data_all = pandas.read_csv('data/gapminder_all.csv', index_col='country')\n",
    "data_all.plot(kind='scatter', x='gdpPercap_2007', y='lifeExp_2007',\n",
    "              s=data_all['pop_2007']/1e6, )\n",
    "\n",
    "plt.title('GDP vs. Life Expectancy (2007)', fontsize=16)\n",
    "plt.xlabel('GDP per capita ($)', fontsize=14)\n",
    "plt.ylabel('Life Expectancy (years)', fontsize=14)\n",
    "# I would like to include a legend here which shows what the sizes of the points mean,\n",
    "# but I can't figure it out...\n",
    "# plt.legend()\n",
    "# Saving your plot to a file:\n",
    "plt.savefig('figures/gdp_vs_life_2007.png', dpi=600, bbox_inches='tight')\n",
    "\n",
    "# kind - type of plot to be created\n",
    "# x - data for x-axis\n",
    "# y - data for y-axis\n",
    "# s - size of  plotted"
   ]
  }
 ],
 "metadata": {
  "kernelspec": {
   "display_name": "Python 3",
   "language": "python",
   "name": "python3"
  },
  "language_info": {
   "codemirror_mode": {
    "name": "ipython",
    "version": 3
   },
   "file_extension": ".py",
   "mimetype": "text/x-python",
   "name": "python",
   "nbconvert_exporter": "python",
   "pygments_lexer": "ipython3",
   "version": "3.7.1"
  }
 },
 "nbformat": 4,
 "nbformat_minor": 2
}
